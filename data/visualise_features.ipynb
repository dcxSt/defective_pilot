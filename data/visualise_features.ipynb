{
 "cells": [
  {
   "cell_type": "code",
   "execution_count": 35,
   "metadata": {},
   "outputs": [],
   "source": [
    "import matplotlib.pyplot as plt # plotting\n",
    "import pandas as pd # data manipulation and analysis\n",
    "import numpy as np # numerical computation\n",
    "import pickle"
   ]
  },
  {
   "cell_type": "markdown",
   "metadata": {},
   "source": [
    "### load the data from pickled files"
   ]
  },
  {
   "cell_type": "code",
   "execution_count": 33,
   "metadata": {},
   "outputs": [],
   "source": [
    "f = open(\"partitioned_features.pickle\",\"rb\")\n",
    "feat_all = pickle.load(f)\n",
    "f.close()\n",
    "\n",
    "f = open(\"partitioned_features_defective.pickle\",\"rb\")\n",
    "feat_defective = pickle.load(f)\n",
    "f.close()\n",
    "\n",
    "f = open(\"partitioned_features_good.pickle\",\"rb\")\n",
    "feat_good = pickle.load(f)\n",
    "f.close()"
   ]
  },
  {
   "cell_type": "markdown",
   "metadata": {},
   "source": [
    "### quality check 1 - check if all data in good is labeled w/ 0 and all data w/ defective is labeled w/ 1\n",
    "\n",
    "They passed the test :) "
   ]
  },
  {
   "cell_type": "code",
   "execution_count": 34,
   "metadata": {},
   "outputs": [],
   "source": [
    "for test in feat_defective:\n",
    "    for pt in test:\n",
    "        label = pt[-2]\n",
    "        if label==0:\n",
    "            print(\"Error\")\n",
    "            print(pt)\n",
    "        elif label!=1:\n",
    "            print(\"Error\")"
   ]
  },
  {
   "cell_type": "code",
   "execution_count": 27,
   "metadata": {},
   "outputs": [],
   "source": [
    "for test in feat_good:\n",
    "    for pt in test:\n",
    "        label = pt[-2]\n",
    "        if label==1:\n",
    "            print(\"Error\")\n",
    "            print(pt)\n",
    "        elif label!=0:\n",
    "            print(\"Error\")"
   ]
  },
  {
   "cell_type": "markdown",
   "metadata": {},
   "source": [
    "## Calculate all the means and statndard deviation"
   ]
  },
  {
   "cell_type": "code",
   "execution_count": 28,
   "metadata": {},
   "outputs": [],
   "source": [
    "def the_means(feature_list):\n",
    "    feat_means = []\n",
    "    for i in feat_all:\n",
    "        transposed = np.transpose(i)\n",
    "        means = []\n",
    "        for j in transposed:\n",
    "            means.append(np.mean(j))\n",
    "        feat_means.append(means)\n",
    "    return feat_means\n",
    "        \n",
    "feat_all_means = the_means(feat_all)\n",
    "feat_defective_means = the_means(feat_defective)\n",
    "feat_good_means = the_means(feat_good)"
   ]
  },
  {
   "cell_type": "code",
   "execution_count": 32,
   "metadata": {},
   "outputs": [
    {
     "data": {
      "text/plain": [
       "470"
      ]
     },
     "execution_count": 32,
     "metadata": {},
     "output_type": "execute_result"
    }
   ],
   "source": [
    "#len(feat_all_means)\n",
    "len(feat_defective_means)\n",
    "len(feat_good_means)"
   ]
  },
  {
   "cell_type": "code",
   "execution_count": 18,
   "metadata": {},
   "outputs": [
    {
     "data": {
      "text/plain": [
       "array([[1, 3, 5],\n",
       "       [2, 4, 6]])"
      ]
     },
     "execution_count": 18,
     "metadata": {},
     "output_type": "execute_result"
    }
   ],
   "source": [
    "np.transpose(a)"
   ]
  },
  {
   "cell_type": "code",
   "execution_count": 16,
   "metadata": {},
   "outputs": [
    {
     "data": {
      "text/plain": [
       "[[1, 2], [3, 4]]"
      ]
     },
     "execution_count": 16,
     "metadata": {},
     "output_type": "execute_result"
    }
   ],
   "source": [
    "a"
   ]
  },
  {
   "cell_type": "code",
   "execution_count": null,
   "metadata": {},
   "outputs": [],
   "source": []
  }
 ],
 "metadata": {
  "kernelspec": {
   "display_name": "Python 3",
   "language": "python",
   "name": "python3"
  },
  "language_info": {
   "codemirror_mode": {
    "name": "ipython",
    "version": 3
   },
   "file_extension": ".py",
   "mimetype": "text/x-python",
   "name": "python",
   "nbconvert_exporter": "python",
   "pygments_lexer": "ipython3",
   "version": "3.7.3"
  }
 },
 "nbformat": 4,
 "nbformat_minor": 2
}
