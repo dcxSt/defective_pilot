{
 "cells": [
  {
   "cell_type": "code",
   "execution_count": 1,
   "metadata": {},
   "outputs": [],
   "source": [
    "import numpy as np\n",
    "import matplotlib.pyplot as plt\n",
    "from matplotlib.ticker import NullFormatter\n",
    "#from sklearn import manifold, datasets\n",
    "from sklearn.manifold import TSNE\n",
    "from sklearn.cluster import KMeans\n",
    "from sklearn.decomposition import PCA"
   ]
  },
  {
   "cell_type": "code",
   "execution_count": 2,
   "metadata": {},
   "outputs": [],
   "source": [
    "X = np.load(\"data_lstm/x_feature_arima.npy\")\n",
    "y = np.load(\"data_lstm/y_raw.npy\")"
   ]
  },
  {
   "cell_type": "code",
   "execution_count": 3,
   "metadata": {
    "scrolled": true
   },
   "outputs": [],
   "source": []
  },
  {
   "cell_type": "code",
   "execution_count": 26,
   "metadata": {},
   "outputs": [
    {
     "name": "stdout",
     "output_type": "stream",
     "text": [
      "410\n",
      "33168\n"
     ]
    },
    {
     "name": "stderr",
     "output_type": "stream",
     "text": [
      "/Applications/anaconda3/lib/python3.6/site-packages/ipykernel_launcher.py:23: DeprecationWarning: using a non-integer array as obj in delete will result in an error in the future\n",
      "/Applications/anaconda3/lib/python3.6/site-packages/ipykernel_launcher.py:25: DeprecationWarning: using a non-integer array as obj in delete will result in an error in the future\n"
     ]
    }
   ],
   "source": [
    "def remove_wrong_points(X, y):\n",
    "    X_zeros = []\n",
    "    for i in range(len(y)):\n",
    "        if y[i] == 0:\n",
    "            X_zeros.append(np.append(X[i], i))\n",
    "    X_zeros = np.array(X_zeros)\n",
    "    #X_zeros[:,:-1]\n",
    "    Kmean = KMeans(n_clusters=1).fit(X_zeros[:,:-1])\n",
    "    center = Kmean.cluster_centers_\n",
    "    center.reshape(81)\n",
    "    distance = []\n",
    "    for zeros in X_zeros:\n",
    "        dist = np.linalg.norm(zeros[:-1] - center)\n",
    "        distance.append((dist,zeros[-1]))\n",
    "    distance = sorted(distance, key=lambda a_entry: a_entry[0]) \n",
    "    wrong_points = distance[int(0.8*len(distance)):]\n",
    "    wrong_points = np.array(wrong_points)\n",
    "    wrong_points = wrong_points.transpose()\n",
    "    #wrong_points[1]\n",
    "    #for index in range(len(wrong_points[1])):\n",
    "    #    wrong_points[1][index] = int(wrong_points[1][index])\n",
    "    print(wrong_points[1])\n",
    "    print(len(X))\n",
    "    new_X = np.delete(X, wrong_points[1])\n",
    "    print(len(new_X))\n",
    "    new_y = np.delete(y, wrong_points[1])\n",
    "    np.save(\"y_new.npy\", new_y)\n",
    "    np.save(\"x_new.npy\", new_X)\n",
    "remove_wrong_points(X, y)\n"
   ]
  },
  {
   "cell_type": "code",
   "execution_count": 11,
   "metadata": {},
   "outputs": [
    {
     "data": {
      "text/plain": [
       "[<matplotlib.lines.Line2D at 0x1a1932e7f0>]"
      ]
     },
     "execution_count": 11,
     "metadata": {},
     "output_type": "execute_result"
    },
    {
     "data": {
      "image/png": "[encoded data removed]",
      "text/plain": [
       "<Figure size 432x288 with 1 Axes>"
      ]
     },
     "metadata": {},
     "output_type": "display_data"
    }
   ],
   "source": [
    "import matplotlib.pyplot as plt\n",
    "plt.plot([i[0] for i in distance[int(0.85*len(distance))]],\"rx\")"
   ]
  },
  {
   "cell_type": "code",
   "execution_count": null,
   "metadata": {},
   "outputs": [],
   "source": []
  }
 ],
 "metadata": {
  "kernelspec": {
   "display_name": "Python 3",
   "language": "python",
   "name": "python3"
  },
  "language_info": {
   "codemirror_mode": {
    "name": "ipython",
    "version": 3
   },
   "file_extension": ".py",
   "mimetype": "text/x-python",
   "name": "python",
   "nbconvert_exporter": "python",
   "pygments_lexer": "ipython3",
   "version": "3.6.5"
  }
 },
 "nbformat": 4,
 "nbformat_minor": 2
}
