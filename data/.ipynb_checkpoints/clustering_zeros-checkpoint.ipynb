{
 "cells": [
  {
   "cell_type": "code",
   "execution_count": 77,
   "metadata": {},
   "outputs": [],
   "source": [
    "import pickle \n",
    "import numpy as np\n",
    "import pandas as pd\n",
    "from sklearn.preprocessing import MinMaxScaler"
   ]
  },
  {
   "cell_type": "code",
   "execution_count": 53,
   "metadata": {},
   "outputs": [],
   "source": [
    "X_good = pickle.load(open('partitioned_features_good.pickle', 'rb'))"
   ]
  },
  {
   "cell_type": "code",
   "execution_count": 54,
   "metadata": {},
   "outputs": [
    {
     "name": "stdout",
     "output_type": "stream",
     "text": [
      "length: 647, index: 0\n",
      "length: 595, index: 4\n",
      "length: 548, index: 9\n",
      "length: 526, index: 10\n",
      "length: 68, index: 14\n",
      "length: 41, index: 21\n",
      "length: 12, index: 234\n",
      "length: 1, index: 287\n"
     ]
    }
   ],
   "source": [
    "m = 99999\n",
    "for i in range(len(X_good)):\n",
    "    if len(X_good[i]) < m:\n",
    "        m = len(X_good[i])\n",
    "        print(\"length: {}, index: {}\".format(m, i))\n",
    "        "
   ]
  },
  {
   "cell_type": "code",
   "execution_count": 55,
   "metadata": {},
   "outputs": [],
   "source": [
    "newlist = list()\n",
    "for i in range(len(X_good)):\n",
    "    if len(X_good[i]) > 600:\n",
    "        newlist.append(X_good[i][:600])"
   ]
  },
  {
   "cell_type": "code",
   "execution_count": 56,
   "metadata": {},
   "outputs": [
    {
     "data": {
      "text/plain": [
       "0.8717105263157895"
      ]
     },
     "execution_count": 56,
     "metadata": {},
     "output_type": "execute_result"
    }
   ],
   "source": [
    "len(newlist)/len(X_good)"
   ]
  },
  {
   "cell_type": "code",
   "execution_count": 57,
   "metadata": {},
   "outputs": [],
   "source": [
    "newlist = np.array(newlist)[:,:,:10]"
   ]
  },
  {
   "cell_type": "code",
   "execution_count": 58,
   "metadata": {},
   "outputs": [
    {
     "data": {
      "text/plain": [
       "(265, 600, 10)"
      ]
     },
     "execution_count": 58,
     "metadata": {},
     "output_type": "execute_result"
    }
   ],
   "source": [
    "newlist.shape"
   ]
  },
  {
   "cell_type": "code",
   "execution_count": 59,
   "metadata": {},
   "outputs": [],
   "source": [
    "X_good = newlist"
   ]
  },
  {
   "cell_type": "code",
   "execution_count": 60,
   "metadata": {},
   "outputs": [],
   "source": [
    "#good ones\n",
    "y_good = np.zeros(265)"
   ]
  },
  {
   "cell_type": "code",
   "execution_count": 61,
   "metadata": {},
   "outputs": [],
   "source": [
    "X_def = pickle.load(open('partitioned_features_defective.pickle', 'rb'))"
   ]
  },
  {
   "cell_type": "code",
   "execution_count": 62,
   "metadata": {},
   "outputs": [],
   "source": [
    "newlist = list()\n",
    "for i in range(len(X_def)):\n",
    "    if len(X_def[i]) > 600:\n",
    "        newlist.append(X_def[i][:600])"
   ]
  },
  {
   "cell_type": "code",
   "execution_count": 63,
   "metadata": {},
   "outputs": [
    {
     "data": {
      "text/plain": [
       "0.891566265060241"
      ]
     },
     "execution_count": 63,
     "metadata": {},
     "output_type": "execute_result"
    }
   ],
   "source": [
    "len(newlist)/len(X_def)"
   ]
  },
  {
   "cell_type": "code",
   "execution_count": 64,
   "metadata": {},
   "outputs": [],
   "source": [
    "newlist = np.array(newlist)[:,:,:10]\n",
    "X_def = newlist"
   ]
  },
  {
   "cell_type": "code",
   "execution_count": 71,
   "metadata": {},
   "outputs": [
    {
     "data": {
      "text/plain": [
       "(148, 600, 10)"
      ]
     },
     "execution_count": 71,
     "metadata": {},
     "output_type": "execute_result"
    }
   ],
   "source": [
    "y_def = np.ones(len(X_def))\n",
    "X_def.shape"
   ]
  },
  {
   "cell_type": "code",
   "execution_count": 72,
   "metadata": {},
   "outputs": [],
   "source": [
    "X = np.concatenate([X_good, X_def], axis=0)\n",
    "y = np.concatenate([y_good, y_def], axis=0)"
   ]
  },
  {
   "cell_type": "code",
   "execution_count": 74,
   "metadata": {},
   "outputs": [
    {
     "data": {
      "text/plain": [
       "(413,)"
      ]
     },
     "execution_count": 74,
     "metadata": {},
     "output_type": "execute_result"
    }
   ],
   "source": [
    "y.shape"
   ]
  },
  {
   "cell_type": "code",
   "execution_count": 80,
   "metadata": {},
   "outputs": [],
   "source": [
    "def normalize_ts(X):\n",
    "    for i in range(len(X)):\n",
    "        ts = X[i]\n",
    "        scaler = MinMaxScaler()\n",
    "        scaler.fit(ts)\n",
    "        X[i] = scaler.transform(ts)\n",
    "    return X"
   ]
  },
  {
   "cell_type": "code",
   "execution_count": 82,
   "metadata": {},
   "outputs": [
    {
     "name": "stdout",
     "output_type": "stream",
     "text": [
      "[[5.75478835e-07 8.42143476e-01 4.17195239e-01 ... 9.58183319e-01\n",
      "  8.53873742e-01 1.00000000e+00]\n",
      " [0.00000000e+00 8.43471510e-01 4.17245965e-01 ... 9.59877552e-01\n",
      "  8.58083502e-01 1.00000000e+00]\n",
      " [1.50162285e-06 8.43471510e-01 4.17337714e-01 ... 9.62002426e-01\n",
      "  8.63251504e-01 1.00000000e+00]\n",
      " ...\n",
      " [9.96701799e-01 4.18668947e-01 6.76011800e-01 ... 6.74006764e-03\n",
      "  1.63363021e-02 9.99464323e-01]\n",
      " [9.98369763e-01 4.18668947e-01 6.85272447e-01 ... 2.83287520e-03\n",
      "  7.71594136e-03 9.99464323e-01]\n",
      " [1.00000000e+00 4.24858296e-01 6.91272069e-01 ... 0.00000000e+00\n",
      "  0.00000000e+00 9.99464323e-01]]\n",
      "[[5.75478835e-07 8.42143476e-01 4.17195239e-01 ... 9.58183319e-01\n",
      "  8.53873742e-01 1.00000000e+00]\n",
      " [0.00000000e+00 8.43471510e-01 4.17245965e-01 ... 9.59877552e-01\n",
      "  8.58083502e-01 1.00000000e+00]\n",
      " [1.50162285e-06 8.43471510e-01 4.17337714e-01 ... 9.62002426e-01\n",
      "  8.63251504e-01 1.00000000e+00]\n",
      " ...\n",
      " [9.96701799e-01 4.18668947e-01 6.76011800e-01 ... 6.74006764e-03\n",
      "  1.63363021e-02 9.99464323e-01]\n",
      " [9.98369763e-01 4.18668947e-01 6.85272447e-01 ... 2.83287520e-03\n",
      "  7.71594136e-03 9.99464323e-01]\n",
      " [1.00000000e+00 4.24858296e-01 6.91272069e-01 ... 0.00000000e+00\n",
      "  0.00000000e+00 9.99464323e-01]]\n"
     ]
    }
   ],
   "source": [
    "print(X[0])\n",
    "X = normalize_ts(X)\n",
    "print(X[0])"
   ]
  },
  {
   "cell_type": "code",
   "execution_count": 76,
   "metadata": {},
   "outputs": [],
   "source": [
    "np.save('X.npy', X)\n",
    "np.save('y.npy', y)"
   ]
  },
  {
   "cell_type": "code",
   "execution_count": null,
   "metadata": {},
   "outputs": [],
   "source": []
  }
 ],
 "metadata": {
  "kernelspec": {
   "display_name": "Python 3",
   "language": "python",
   "name": "python3"
  },
  "language_info": {
   "codemirror_mode": {
    "name": "ipython",
    "version": 3
   },
   "file_extension": ".py",
   "mimetype": "text/x-python",
   "name": "python",
   "nbconvert_exporter": "python",
   "pygments_lexer": "ipython3",
   "version": "3.7.1"
  }
 },
 "nbformat": 4,
 "nbformat_minor": 2
}
