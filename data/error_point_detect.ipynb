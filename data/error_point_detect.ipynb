{
 "cells": [
  {
   "cell_type": "code",
   "execution_count": 1,
   "metadata": {},
   "outputs": [],
   "source": [
    "import numpy as np\n",
    "import matplotlib.pyplot as plt\n",
    "from matplotlib.ticker import NullFormatter\n",
    "#from sklearn import manifold, datasets\n",
    "from sklearn.manifold import TSNE\n",
    "from sklearn.cluster import KMeans\n",
    "from sklearn.decomposition import PCA"
   ]
  },
  {
   "cell_type": "code",
   "execution_count": 51,
   "metadata": {},
   "outputs": [],
   "source": [
    "X = np.load(\"data_lstm/x_feature_arima.npy\")\n",
    "y = np.load(\"data_lstm/y_raw.npy\")"
   ]
  },
  {
   "cell_type": "code",
   "execution_count": 52,
   "metadata": {
    "scrolled": true
   },
   "outputs": [
    {
     "data": {
      "text/plain": [
       "array([[ 1.16078649e+02, -1.18220053e+02,  4.01968796e-01, ...,\n",
       "         3.75710652e-01,  1.42092681e-02,  3.75710652e-01],\n",
       "       [ 1.29770238e+02, -1.17242957e+02,  8.75459519e-01, ...,\n",
       "         4.76555542e-01, -3.44581226e-03,  4.76555542e-01],\n",
       "       [ 6.47146661e+01, -1.64969864e+02, -6.63323702e-01, ...,\n",
       "         4.97979446e-01, -1.60277755e-02,  4.97979446e-01],\n",
       "       ...,\n",
       "       [-1.10145230e+01, -1.59571120e+02,  1.03436640e-01, ...,\n",
       "         3.11151932e-01, -8.67361738e-19,  3.11151932e-01],\n",
       "       [ 7.59655346e+01, -1.58445160e+02, -4.41205633e-01, ...,\n",
       "         4.29191288e-01, -2.09281250e-02,  4.29191288e-01],\n",
       "       [ 2.58648760e+01, -1.99079046e+02, -9.72201233e-02, ...,\n",
       "         5.24137237e-01,  1.33233852e-02,  5.24137237e-01]])"
      ]
     },
     "execution_count": 52,
     "metadata": {},
     "output_type": "execute_result"
    }
   ],
   "source": [
    "X_zeros = []\n",
    "for i in range(len(y)):\n",
    "    if y[i] == 0:\n",
    "        X_zeros.append(np.append(X[i], i))\n",
    "X_zeros = np.array(X_zeros)\n",
    "#X_zeros[:,:-1]"
   ]
  },
  {
   "cell_type": "code",
   "execution_count": 89,
   "metadata": {},
   "outputs": [],
   "source": [
    "Kmean = KMeans(n_clusters=1).fit(X_zeros[:,:-1])\n",
    "center = Kmean.cluster_centers_\n",
    "center.reshape(81)\n",
    "distance = []\n",
    "for zeros in X_zeros:\n",
    "    dist = np.linalg.norm(zeros[:-1] - center)\n",
    "    distance.append((dist,zeros[-1]))\n",
    "distance = sorted(distance, key=lambda a_entry: a_entry[0]) \n",
    "wrong_points = distance[int(0.85*len(distance)):]\n",
    "wrong_points = np.array(wrong_points)\n",
    "wrong_points = wrong_points.transpose()\n",
    "#wrong_points[1]\n",
    "#for index in range(len(wrong_points[1])):\n",
    "#    wrong_points[1][index] = int(wrong_points[1][index])\n",
    "for index in wrong_points[1]:\n",
    "    y[int(index)] = 1\n",
    "np.save(\"y_new.npy\", y)"
   ]
  },
  {
   "cell_type": "code",
   "execution_count": null,
   "metadata": {},
   "outputs": [],
   "source": []
  },
  {
   "cell_type": "code",
   "execution_count": null,
   "metadata": {},
   "outputs": [],
   "source": []
  }
 ],
 "metadata": {
  "kernelspec": {
   "display_name": "Python 3",
   "language": "python",
   "name": "python3"
  },
  "language_info": {
   "codemirror_mode": {
    "name": "ipython",
    "version": 3
   },
   "file_extension": ".py",
   "mimetype": "text/x-python",
   "name": "python",
   "nbconvert_exporter": "python",
   "pygments_lexer": "ipython3",
   "version": "3.6.5"
  }
 },
 "nbformat": 4,
 "nbformat_minor": 2
}
