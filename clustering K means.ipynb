{
 "cells": [
  {
   "cell_type": "code",
   "execution_count": 16,
   "metadata": {},
   "outputs": [
    {
     "name": "stdout",
     "output_type": "stream",
     "text": [
      "(410, 81)\n"
     ]
    },
    {
     "ename": "ValueError",
     "evalue": "Expected 2D array, got 1D array instead:\narray=[ 1.16078649e+02 -1.18220053e+02  4.01968796e-01  5.34049414e+00\n  4.94193359e+01  4.53321940e+01  4.89494901e+01 -3.49466455e+00\n -2.11015651e+00  1.29726956e+02  1.39299516e+02  6.46775561e+01\n  1.20861394e+00  5.05850001e+00  5.37999264e+00  1.51465031e+01\n  3.64810318e+01  2.98716055e+00  1.91252367e+00  1.97782774e+01\n  4.14535633e+02 -1.27459400e+01  5.65101894e+00  1.14062215e+01\n  7.97265625e+01  8.19824219e+01  8.98185200e+01  3.58129410e-02\n  6.36381469e-01  1.32476800e+02  1.34641216e-01 -1.98629800e+02\n -4.10937593e+00 -3.82138481e-01  2.89453125e+01  1.41601562e+01\n  1.18182400e+01 -8.09955037e+00 -6.81839926e+00 -1.50000000e+01\n  7.00303964e-01  4.92924441e-01  5.19621682e-02  2.84762751e-02\n  5.10421014e-01  5.26104706e-01  1.36226160e-01  3.96518827e-02\n  4.42039995e-02  4.92582972e-01  7.84641068e-01  6.07679466e-01\n  2.52086811e-01  2.37009448e+00  2.37009448e+00  2.00161918e-02\n  9.85160736e-01  1.30968994e-02  5.45803940e-03  6.34275711e-01\n  7.11028951e-01  1.03830334e-01  7.39576899e-03  7.78237107e-03\n  9.86813378e-01  1.16861436e-02  3.18864775e-01  6.01001669e-02\n  4.84140234e-02  5.17529215e-02  1.06844741e-01  6.01001669e-02\n  2.67111853e-02  2.33722871e-02  1.50250417e-02 -1.29552455e-01\n -2.17991739e-02  1.42092681e-02  3.75710652e-01  1.42092681e-02\n  3.75710652e-01].\nReshape your data either using array.reshape(-1, 1) if your data has a single feature or array.reshape(1, -1) if it contains a single sample.",
     "output_type": "error",
     "traceback": [
      "\u001b[1;31m---------------------------------------------------------------------------\u001b[0m",
      "\u001b[1;31mValueError\u001b[0m                                Traceback (most recent call last)",
      "\u001b[1;32m<ipython-input-16-109dc9886538>\u001b[0m in \u001b[0;36m<module>\u001b[1;34m\u001b[0m\n\u001b[0;32m     14\u001b[0m \u001b[1;33m\u001b[0m\u001b[0m\n\u001b[0;32m     15\u001b[0m \u001b[1;32mfor\u001b[0m \u001b[0mi\u001b[0m \u001b[1;32min\u001b[0m \u001b[0mrange\u001b[0m\u001b[1;33m(\u001b[0m\u001b[1;36m410\u001b[0m\u001b[1;33m)\u001b[0m\u001b[1;33m:\u001b[0m\u001b[1;33m\u001b[0m\u001b[1;33m\u001b[0m\u001b[0m\n\u001b[1;32m---> 16\u001b[1;33m     \u001b[0ma_point\u001b[0m \u001b[1;33m=\u001b[0m \u001b[0mkmeans\u001b[0m\u001b[1;33m.\u001b[0m\u001b[0mpredict\u001b[0m\u001b[1;33m(\u001b[0m\u001b[0mX\u001b[0m\u001b[1;33m[\u001b[0m\u001b[0mi\u001b[0m\u001b[1;33m]\u001b[0m\u001b[1;33m)\u001b[0m\u001b[1;33m\u001b[0m\u001b[1;33m\u001b[0m\u001b[0m\n\u001b[0m\u001b[0;32m     17\u001b[0m     \u001b[0ma_point\u001b[0m \u001b[1;33m=\u001b[0m \u001b[0marray\u001b[0m\u001b[1;33m.\u001b[0m\u001b[0mreshape\u001b[0m\u001b[1;33m(\u001b[0m\u001b[0ma_point\u001b[0m\u001b[1;33m,\u001b[0m\u001b[1;33m(\u001b[0m\u001b[1;36m1\u001b[0m\u001b[1;33m,\u001b[0m\u001b[1;33m-\u001b[0m\u001b[1;36m1\u001b[0m\u001b[1;33m)\u001b[0m\u001b[1;33m)\u001b[0m\u001b[1;33m\u001b[0m\u001b[1;33m\u001b[0m\u001b[0m\n\u001b[0;32m     18\u001b[0m     \u001b[0mpoints\u001b[0m\u001b[1;33m.\u001b[0m\u001b[0mappend\u001b[0m\u001b[1;33m(\u001b[0m\u001b[0ma_point\u001b[0m\u001b[1;33m)\u001b[0m\u001b[1;33m\u001b[0m\u001b[1;33m\u001b[0m\u001b[0m\n",
      "\u001b[1;32m~\\Miniconda3\\lib\\site-packages\\sklearn\\cluster\\k_means_.py\u001b[0m in \u001b[0;36mpredict\u001b[1;34m(self, X, sample_weight)\u001b[0m\n\u001b[0;32m   1074\u001b[0m         \u001b[0mcheck_is_fitted\u001b[0m\u001b[1;33m(\u001b[0m\u001b[0mself\u001b[0m\u001b[1;33m,\u001b[0m \u001b[1;34m'cluster_centers_'\u001b[0m\u001b[1;33m)\u001b[0m\u001b[1;33m\u001b[0m\u001b[1;33m\u001b[0m\u001b[0m\n\u001b[0;32m   1075\u001b[0m \u001b[1;33m\u001b[0m\u001b[0m\n\u001b[1;32m-> 1076\u001b[1;33m         \u001b[0mX\u001b[0m \u001b[1;33m=\u001b[0m \u001b[0mself\u001b[0m\u001b[1;33m.\u001b[0m\u001b[0m_check_test_data\u001b[0m\u001b[1;33m(\u001b[0m\u001b[0mX\u001b[0m\u001b[1;33m)\u001b[0m\u001b[1;33m\u001b[0m\u001b[1;33m\u001b[0m\u001b[0m\n\u001b[0m\u001b[0;32m   1077\u001b[0m         \u001b[0mx_squared_norms\u001b[0m \u001b[1;33m=\u001b[0m \u001b[0mrow_norms\u001b[0m\u001b[1;33m(\u001b[0m\u001b[0mX\u001b[0m\u001b[1;33m,\u001b[0m \u001b[0msquared\u001b[0m\u001b[1;33m=\u001b[0m\u001b[1;32mTrue\u001b[0m\u001b[1;33m)\u001b[0m\u001b[1;33m\u001b[0m\u001b[1;33m\u001b[0m\u001b[0m\n\u001b[0;32m   1078\u001b[0m         return _labels_inertia(X, sample_weight, x_squared_norms,\n",
      "\u001b[1;32m~\\Miniconda3\\lib\\site-packages\\sklearn\\cluster\\k_means_.py\u001b[0m in \u001b[0;36m_check_test_data\u001b[1;34m(self, X)\u001b[0m\n\u001b[0;32m    931\u001b[0m \u001b[1;33m\u001b[0m\u001b[0m\n\u001b[0;32m    932\u001b[0m     \u001b[1;32mdef\u001b[0m \u001b[0m_check_test_data\u001b[0m\u001b[1;33m(\u001b[0m\u001b[0mself\u001b[0m\u001b[1;33m,\u001b[0m \u001b[0mX\u001b[0m\u001b[1;33m)\u001b[0m\u001b[1;33m:\u001b[0m\u001b[1;33m\u001b[0m\u001b[1;33m\u001b[0m\u001b[0m\n\u001b[1;32m--> 933\u001b[1;33m         \u001b[0mX\u001b[0m \u001b[1;33m=\u001b[0m \u001b[0mcheck_array\u001b[0m\u001b[1;33m(\u001b[0m\u001b[0mX\u001b[0m\u001b[1;33m,\u001b[0m \u001b[0maccept_sparse\u001b[0m\u001b[1;33m=\u001b[0m\u001b[1;34m'csr'\u001b[0m\u001b[1;33m,\u001b[0m \u001b[0mdtype\u001b[0m\u001b[1;33m=\u001b[0m\u001b[0mFLOAT_DTYPES\u001b[0m\u001b[1;33m)\u001b[0m\u001b[1;33m\u001b[0m\u001b[1;33m\u001b[0m\u001b[0m\n\u001b[0m\u001b[0;32m    934\u001b[0m         \u001b[0mn_samples\u001b[0m\u001b[1;33m,\u001b[0m \u001b[0mn_features\u001b[0m \u001b[1;33m=\u001b[0m \u001b[0mX\u001b[0m\u001b[1;33m.\u001b[0m\u001b[0mshape\u001b[0m\u001b[1;33m\u001b[0m\u001b[1;33m\u001b[0m\u001b[0m\n\u001b[0;32m    935\u001b[0m         \u001b[0mexpected_n_features\u001b[0m \u001b[1;33m=\u001b[0m \u001b[0mself\u001b[0m\u001b[1;33m.\u001b[0m\u001b[0mcluster_centers_\u001b[0m\u001b[1;33m.\u001b[0m\u001b[0mshape\u001b[0m\u001b[1;33m[\u001b[0m\u001b[1;36m1\u001b[0m\u001b[1;33m]\u001b[0m\u001b[1;33m\u001b[0m\u001b[1;33m\u001b[0m\u001b[0m\n",
      "\u001b[1;32m~\\Miniconda3\\lib\\site-packages\\sklearn\\utils\\validation.py\u001b[0m in \u001b[0;36mcheck_array\u001b[1;34m(array, accept_sparse, accept_large_sparse, dtype, order, copy, force_all_finite, ensure_2d, allow_nd, ensure_min_samples, ensure_min_features, warn_on_dtype, estimator)\u001b[0m\n\u001b[0;32m    550\u001b[0m                     \u001b[1;34m\"Reshape your data either using array.reshape(-1, 1) if \"\u001b[0m\u001b[1;33m\u001b[0m\u001b[1;33m\u001b[0m\u001b[0m\n\u001b[0;32m    551\u001b[0m                     \u001b[1;34m\"your data has a single feature or array.reshape(1, -1) \"\u001b[0m\u001b[1;33m\u001b[0m\u001b[1;33m\u001b[0m\u001b[0m\n\u001b[1;32m--> 552\u001b[1;33m                     \"if it contains a single sample.\".format(array))\n\u001b[0m\u001b[0;32m    553\u001b[0m \u001b[1;33m\u001b[0m\u001b[0m\n\u001b[0;32m    554\u001b[0m         \u001b[1;31m# in the future np.flexible dtypes will be handled like object dtypes\u001b[0m\u001b[1;33m\u001b[0m\u001b[1;33m\u001b[0m\u001b[1;33m\u001b[0m\u001b[0m\n",
      "\u001b[1;31mValueError\u001b[0m: Expected 2D array, got 1D array instead:\narray=[ 1.16078649e+02 -1.18220053e+02  4.01968796e-01  5.34049414e+00\n  4.94193359e+01  4.53321940e+01  4.89494901e+01 -3.49466455e+00\n -2.11015651e+00  1.29726956e+02  1.39299516e+02  6.46775561e+01\n  1.20861394e+00  5.05850001e+00  5.37999264e+00  1.51465031e+01\n  3.64810318e+01  2.98716055e+00  1.91252367e+00  1.97782774e+01\n  4.14535633e+02 -1.27459400e+01  5.65101894e+00  1.14062215e+01\n  7.97265625e+01  8.19824219e+01  8.98185200e+01  3.58129410e-02\n  6.36381469e-01  1.32476800e+02  1.34641216e-01 -1.98629800e+02\n -4.10937593e+00 -3.82138481e-01  2.89453125e+01  1.41601562e+01\n  1.18182400e+01 -8.09955037e+00 -6.81839926e+00 -1.50000000e+01\n  7.00303964e-01  4.92924441e-01  5.19621682e-02  2.84762751e-02\n  5.10421014e-01  5.26104706e-01  1.36226160e-01  3.96518827e-02\n  4.42039995e-02  4.92582972e-01  7.84641068e-01  6.07679466e-01\n  2.52086811e-01  2.37009448e+00  2.37009448e+00  2.00161918e-02\n  9.85160736e-01  1.30968994e-02  5.45803940e-03  6.34275711e-01\n  7.11028951e-01  1.03830334e-01  7.39576899e-03  7.78237107e-03\n  9.86813378e-01  1.16861436e-02  3.18864775e-01  6.01001669e-02\n  4.84140234e-02  5.17529215e-02  1.06844741e-01  6.01001669e-02\n  2.67111853e-02  2.33722871e-02  1.50250417e-02 -1.29552455e-01\n -2.17991739e-02  1.42092681e-02  3.75710652e-01  1.42092681e-02\n  3.75710652e-01].\nReshape your data either using array.reshape(-1, 1) if your data has a single feature or array.reshape(1, -1) if it contains a single sample."
     ]
    }
   ],
   "source": [
    "from sklearn.cluster import KMeans\n",
    "import numpy as np\n",
    "from sklearn.manifold import TSNE\n",
    "\n",
    "X = np.load('data/data_lstm/x_feature_arima.npy')\n",
    "print(X.shape)\n",
    "X[0]\n",
    "\n",
    "kmeans = KMeans(n_clusters=1, random_state=0).fit(X)\n",
    "kmeans.labels_\n",
    "kmeans.cluster_centers_\n",
    "\n",
    "points = []\n",
    "\n",
    "for i in range(410):\n",
    "    a_point = kmeans.predict(X[i])\n",
    "#     a_point = array.reshape(a_point,(1,-1))\n",
    "    points.append(a_point)\n",
    "    \n",
    "\n",
    "    \n",
    "points.shape\n",
    "# X_embedded = TSNE(n_components =2).fit_transform(points)\n",
    "# array([1, 1, 1, 0, 0, 0], dtype=int32)\n",
    "# >>> kmeans.predict([[0, 0], [12, 3]])\n",
    "# array([1, 0], dtype=int32)\n",
    "# >>> kmeans.cluster_centers_\n",
    "# array([[10.,  2.],\n",
    "#        [ 1.,  2.]])"
   ]
  }
 ],
 "metadata": {
  "kernelspec": {
   "display_name": "Python 3",
   "language": "python",
   "name": "python3"
  },
  "language_info": {
   "codemirror_mode": {
    "name": "ipython",
    "version": 3
   },
   "file_extension": ".py",
   "mimetype": "text/x-python",
   "name": "python",
   "nbconvert_exporter": "python",
   "pygments_lexer": "ipython3",
   "version": "3.7.3"
  }
 },
 "nbformat": 4,
 "nbformat_minor": 2
}
